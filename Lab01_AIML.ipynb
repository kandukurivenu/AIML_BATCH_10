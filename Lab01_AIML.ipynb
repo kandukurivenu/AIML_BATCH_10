{
  "nbformat": 4,
  "nbformat_minor": 0,
  "metadata": {
    "colab": {
      "provenance": [],
      "authorship_tag": "ABX9TyOdT1tsqwD+eRuoYPhKFBWG",
      "include_colab_link": true
    },
    "kernelspec": {
      "name": "python3",
      "display_name": "Python 3"
    },
    "language_info": {
      "name": "python"
    }
  },
  "cells": [
    {
      "cell_type": "markdown",
      "metadata": {
        "id": "view-in-github",
        "colab_type": "text"
      },
      "source": [
        "<a href=\"https://colab.research.google.com/github/kandukurivenu/AIML_BATCH_10/blob/main/Lab01_AIML.ipynb\" target=\"_parent\"><img src=\"https://colab.research.google.com/assets/colab-badge.svg\" alt=\"Open In Colab\"/></a>"
      ]
    },
    {
      "cell_type": "markdown",
      "source": [
        "## **lab activity on Numpy,pandas,matplotlib**"
      ],
      "metadata": {
        "id": "9uQsWSW9czVD"
      }
    },
    {
      "cell_type": "code",
      "source": [
        "import numpy as np\n",
        "list1=[1,2,3]\n",
        "array1=np.array(list1)\n",
        "print(array1)"
      ],
      "metadata": {
        "colab": {
          "base_uri": "https://localhost:8080/"
        },
        "id": "3AkU_ViFXVWC",
        "outputId": "256c5e67-35d1-4b64-b5d4-d48d4ddfd4c1"
      },
      "execution_count": null,
      "outputs": [
        {
          "output_type": "stream",
          "name": "stdout",
          "text": [
            "[1 2 3]\n"
          ]
        }
      ]
    },
    {
      "cell_type": "code",
      "source": [
        "type(list1)\n",
        "type(array1)"
      ],
      "metadata": {
        "colab": {
          "base_uri": "https://localhost:8080/"
        },
        "id": "fh1OqnSNX-lE",
        "outputId": "00ab4060-a17d-4a09-a3b2-72035c5a58c6"
      },
      "execution_count": null,
      "outputs": [
        {
          "output_type": "execute_result",
          "data": {
            "text/plain": [
              "numpy.ndarray"
            ]
          },
          "metadata": {},
          "execution_count": 4
        }
      ]
    },
    {
      "cell_type": "markdown",
      "source": [
        "### **Perform Mathematical operation multiply,**\n",
        "\n",
        "## New Section"
      ],
      "metadata": {
        "id": "TkqaJTLeZJDc"
      }
    },
    {
      "cell_type": "code",
      "source": [
        "list2=[3,2,1]\n",
        "array2=np.array(list2)\n",
        "print(\"Multiplication of Array1 with Array2 gives:\",array2*array1)"
      ],
      "metadata": {
        "colab": {
          "base_uri": "https://localhost:8080/"
        },
        "id": "5iARxAYUYUWa",
        "outputId": "79144da6-9d70-4933-b70f-efac156000a8"
      },
      "execution_count": null,
      "outputs": [
        {
          "output_type": "stream",
          "name": "stdout",
          "text": [
            "Multiplication of Array1 with Array2 gives: [3 4 3]\n"
          ]
        }
      ]
    },
    {
      "cell_type": "code",
      "source": [
        "#sine funtion\n",
        "print(\"sine:\",np.sin(array1))\n",
        "#logarithms\n",
        "print(\"Natural Logarithms:\",np.log(array1))\n",
        "print(\"Base-10 logarithms\",np.log10(array1))\n",
        "print(\"Base-2 logarithms\",np.log2(array1))\n",
        "#Exponential\n",
        "print(\"Exponential:\",np.exp(array1))"
      ],
      "metadata": {
        "colab": {
          "base_uri": "https://localhost:8080/"
        },
        "id": "O0MiE0Ruc7Or",
        "outputId": "2c0ef378-64c0-47a3-e835-d1c1316dc2ef"
      },
      "execution_count": null,
      "outputs": [
        {
          "output_type": "stream",
          "name": "stdout",
          "text": [
            "sine: [0.84147098 0.90929743 0.14112001]\n",
            "Natural Logarithms: [0.         0.69314718 1.09861229]\n",
            "Base-10 logarithms [0.         0.30103    0.47712125]\n",
            "Base-2 logarithms [0.        1.        1.5849625]\n",
            "Exponential: [ 2.71828183  7.3890561  20.08553692]\n"
          ]
        }
      ]
    }
  ]
}