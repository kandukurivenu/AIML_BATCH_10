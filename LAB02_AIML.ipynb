{
  "nbformat": 4,
  "nbformat_minor": 0,
  "metadata": {
    "colab": {
      "provenance": [],
      "authorship_tag": "ABX9TyOPu6TvgG6alnP7IekLLA6d",
      "include_colab_link": true
    },
    "kernelspec": {
      "name": "python3",
      "display_name": "Python 3"
    },
    "language_info": {
      "name": "python"
    }
  },
  "cells": [
    {
      "cell_type": "markdown",
      "metadata": {
        "id": "view-in-github",
        "colab_type": "text"
      },
      "source": [
        "<a href=\"https://colab.research.google.com/github/kandukurivenu/AIML_BATCH_10/blob/main/LAB02_AIML.ipynb\" target=\"_parent\"><img src=\"https://colab.research.google.com/assets/colab-badge.svg\" alt=\"Open In Colab\"/></a>"
      ]
    },
    {
      "cell_type": "markdown",
      "source": [
        "## LAB2\n",
        "\n",
        "\n",
        "classical AI Search Algorithm\n",
        "1.Uninformed search -DFS,BFS\n",
        "2.informed search/Heruristic/cost based/valulebased\n",
        "\n",
        "\n",
        "Complexities\n",
        "time complexity\n",
        "space complexity\n",
        "Optimality\n",
        "a star complexity"
      ],
      "metadata": {
        "id": "ePmNwJkoWObA"
      }
    },
    {
      "cell_type": "markdown",
      "source": [
        "# **implement breadth first search algorithm**"
      ],
      "metadata": {
        "id": "_ij2B4FJaCPo"
      }
    },
    {
      "cell_type": "code",
      "source": [
        "import numpy as np"
      ],
      "metadata": {
        "id": "oy_2ralbadHH"
      },
      "execution_count": null,
      "outputs": []
    },
    {
      "cell_type": "code",
      "source": [
        "from queue import Queue\n",
        "\n",
        "graph = {0: [1, 3],1:[0,2,3],2:[4,1,5],3:[4,0,1],4:[2,3,5],5:[4,2],6:[]}\n",
        "print(\"The adjacency list representing the graph is :\")\n",
        "print(graph)\n"
      ],
      "metadata": {
        "colab": {
          "base_uri": "https://localhost:8080/"
        },
        "id": "nESDhTilaLeG",
        "outputId": "2729209d-656d-4b19-a107-8b5d3d7fa070"
      },
      "execution_count": null,
      "outputs": [
        {
          "output_type": "stream",
          "name": "stdout",
          "text": [
            "The adjacency list representing the graph is :\n",
            "{0: [1, 3], 1: [0, 2, 3], 2: [4, 1, 5], 3: [4, 0, 1], 4: [2, 3, 5], 5: [4, 2], 6: []}\n",
            "BFs traversal of graph with source 0 is:\n",
            "0-->1-->3-->2-->4-->5-->"
          ]
        }
      ]
    },
    {
      "cell_type": "code",
      "source": [
        "from queue import Queue\n",
        "\n",
        "graph = {0: [1, 3],1:[0,2,3],2:[4,1,5],3:[4,0,1],4:[2,3,5],5:[4,2],6:[]}\n",
        "print(\"The adjacency list representing the graph is :\")\n",
        "print(graph)\n",
        "def bfs(graph, source):\n",
        "  Q=Queue()\n",
        "  visited_vertices=set()\n",
        "  Q.put(source)\n",
        "  visited_vertices.update({0})\n",
        "  while not Q.empty():\n",
        "    vertex =Q.get()\n",
        "    print(vertex, end=\"->\")\n",
        "    for u in graph[vertex]:\n",
        "      if u not in visited_vertices:\n",
        "        Q.put(u)\n",
        "        visited_vertices.update({u})\n",
        "print(\"BFs traversal of graph with source 0 is:\")\n",
        "bfs(graph, 0)\n",
        "\n"
      ],
      "metadata": {
        "id": "9M2jsQ5se1ho",
        "colab": {
          "base_uri": "https://localhost:8080/"
        },
        "outputId": "2853612e-29ff-414d-f9fb-7ed4aaefe8b8"
      },
      "execution_count": null,
      "outputs": [
        {
          "output_type": "stream",
          "name": "stdout",
          "text": [
            "The adjacency list representing the graph is :\n",
            "{0: [1, 3], 1: [0, 2, 3], 2: [4, 1, 5], 3: [4, 0, 1], 4: [2, 3, 5], 5: [4, 2], 6: []}\n",
            "BFs traversal of graph with source 0 is:\n",
            "0->1->3->2->4->5->"
          ]
        }
      ]
    }
  ]
}